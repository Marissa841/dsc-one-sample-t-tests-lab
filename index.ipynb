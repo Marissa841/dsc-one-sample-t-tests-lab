{
 "cells": [
  {
   "cell_type": "markdown",
   "metadata": {},
   "source": [
    "# One Sample T-Test - Lab\n",
    "\n",
    "## Introduction\n",
    "Just as you previously used the t-distribution to provide confidence intervals for estimating the population mean, you can also use similar methods to test whether two populations are different, statistically speaking. To do this, you can use a t-test.\n",
    "\n",
    "## Objectives\n",
    "You will be able to:\n",
    "\n",
    "* Perform a one sample t-test and make conclusions about an experiment based on the results\n",
    "\n",
    "### Exercise 1: \n",
    "\n",
    "Create a function in Python `one_sample_ttest(sample, popmean, alpha)` that will take in sample data (an array of observations), the population mean and the alpha value to calculate and print out the t-statistic, critical t-value, and p-value for the sample and identify if the results are significant or not. The function should also create a visualization using `seaborn` of the distribution to check for normality."
   ]
  },
  {
   "cell_type": "code",
   "execution_count": 118,
   "metadata": {},
   "outputs": [],
   "source": [
    "import seaborn as sns\n",
    "import matplotlib.pyplot as plt\n",
    "import numpy as np\n",
    "from scipy import stats\n",
    "\n",
    "def one_sample_ttest(sample, popmean, alpha):\n",
    "\n",
    "    # Visualize sample distribution for normality \n",
    "    sns.distplot(sample)\n",
    "    plt.axvline(popmean, color = 'black')\n",
    "    \n",
    "    # Population mean \n",
    "\n",
    "    # Sample mean (x̄) using NumPy mean()\n",
    "    sample_mean = np.mean(sample)\n",
    "    print(f'Population mean: {popmean}')\n",
    "    print(f'Sample mean: {np.round(sample_mean, 2)}')\n",
    "\n",
    "    # Sample Standard Deviation (sigma) using Numpy\n",
    "    sample_sd = np.std(sample)\n",
    "    print(f'Sample standard deviation: {sample_sd}')\n",
    "    \n",
    "    # Degrees of freedom\n",
    "    df = len(sample) - 1\n",
    "    print(f'Degrees of freedom: {df}')\n",
    "    # Calculate the critical t-value\n",
    "    t_critical = np.abs(stats.t.ppf(alpha, df))\n",
    "    print(f'T Critical: {np.round(t_critical, 2)}')\n",
    "    \n",
    "    \n",
    "    # Calculate the t-value and p-value      \n",
    "    p_value = stats.ttest_1samp(sample_data, popmean)[1] / 2\n",
    "    t_statistic = stats.ttest_1samp(sample_data, popmean)[0]\n",
    "    if (p_value < alpha) & (t_statistic > 0):\n",
    "        print('Reject Null Hypothesis')\n",
    "    else:\n",
    "        print('Fail to Reject Null Hypothesis')\n",
    "    print(F'P-value: {p_value}')\n",
    "    # return results\n",
    "    \n",
    "    return None"
   ]
  },
  {
   "cell_type": "code",
   "execution_count": 108,
   "metadata": {},
   "outputs": [
    {
     "data": {
      "text/plain": [
       "13.202088288314906"
      ]
     },
     "execution_count": 108,
     "metadata": {},
     "output_type": "execute_result"
    }
   ],
   "source": [
    "stats.ttest_1samp(sample_data, 65)[0]"
   ]
  },
  {
   "cell_type": "code",
   "execution_count": 119,
   "metadata": {},
   "outputs": [
    {
     "name": "stdout",
     "output_type": "stream",
     "text": [
      "Population mean: 65\n",
      "Sample mean: 81.8\n",
      "Sample standard deviation: 5.771741504953251\n",
      "Degrees of freedom: 19\n",
      "T Critical: 1.73\n",
      "Reject Null Hypothesis\n",
      "P-value: 5.026677797226412e-11\n"
     ]
    },
    {
     "data": {
      "image/png": "[encoded data removed]",
      "text/plain": [
       "<Figure size 432x288 with 1 Axes>"
      ]
     },
     "metadata": {
      "needs_background": "light"
     },
     "output_type": "display_data"
    }
   ],
   "source": [
    "sample_data = [84.0, 92.4, 74.3, 79.4, 86.7, 75.3, 90.9, 86.1, 81.0, 85.1, \n",
    "  78.7, 73.5, 86.9, 87.4, 82.7, 81.9, 69.9, 77.2, 79.3, 83.3]\n",
    "\n",
    "one_sample_ttest(sample_data, 65, 0.05)"
   ]
  },
  {
   "cell_type": "code",
   "execution_count": 14,
   "metadata": {},
   "outputs": [],
   "source": [
    "# stats.t.cdf(1.729, df=19)"
   ]
  },
  {
   "cell_type": "markdown",
   "metadata": {},
   "source": [
    "### Exercise 2:\n",
    "\n",
    "Use the function created in Exercise 1 to answer the following analytical questions.\n",
    "\n",
    "In a Python class, some of the students have taken online courses to improve their Python skills.\n",
    "The scores of a random sample of 20 students who underwent the online-course on a Python test are as follows: \n",
    "\n",
    "     [84.0, 92.4, 74.3, 79.4, 86.7, 75.3, 90.9, 86.1, 81.0, 85.1, \n",
    "      78.7, 73.5, 86.9, 87.4, 82.7, 81.9, 69.9, 77.2, 79.3, 83.3]\n",
    "\n",
    "The mean score of the class before the test is 65. The teacher thinks that the online training has really helped the students and now they should perform better than the class (population) mean. Use this to set your null and alternative hypotheses.\n",
    "\n",
    "1. Test to see if the sample mean is significantly different from 65 at the .05 level. Report the t- and p-values.\n",
    "2. The researcher realizes that she accidentally recorded the score that should have been 80.9 as 90.9. Are these corrected scores significantly different from 65 at the .05 level?\n",
    "\n",
    "Bonus: What is the effect size of the first sample compared to the population? How can you interpret this effect size in relation to your significance test?\n",
    "\n",
    "\n",
    "### Solution:"
   ]
  },
  {
   "cell_type": "code",
   "execution_count": null,
   "metadata": {},
   "outputs": [],
   "source": [
    "# Null H.: Students after taking online course scored less than or equal to the class mean.\n",
    "# Alt. H.: Students after taking online course scored greater than the class mean."
   ]
  },
  {
   "cell_type": "code",
   "execution_count": 120,
   "metadata": {
    "scrolled": true
   },
   "outputs": [
    {
     "name": "stdout",
     "output_type": "stream",
     "text": [
      "Population mean: 65\n",
      "Sample mean: 81.8\n",
      "Sample standard deviation: 5.771741504953251\n",
      "Degrees of freedom: 19\n",
      "T Critical: 1.73\n",
      "Reject Null Hypothesis\n",
      "P-value: 5.026677797226412e-11\n"
     ]
    },
    {
     "data": {
      "image/png": "[encoded data removed]",
      "text/plain": [
       "<Figure size 432x288 with 1 Axes>"
      ]
     },
     "metadata": {
      "needs_background": "light"
     },
     "output_type": "display_data"
    }
   ],
   "source": [
    "sample_data = [84.0, 92.4, 74.3, 79.4, 86.7, 75.3, 90.9, 86.1, 81.0, 85.1, \n",
    "  78.7, 73.5, 86.9, 87.4, 82.7, 81.9, 69.9, 77.2, 79.3, 83.3]\n",
    "\n",
    "one_sample_ttest(sample_data, 65, 0.05)\n"
   ]
  },
  {
   "cell_type": "code",
   "execution_count": 121,
   "metadata": {},
   "outputs": [
    {
     "name": "stdout",
     "output_type": "stream",
     "text": [
      "Population mean: 80\n",
      "Sample mean: 81.3\n",
      "Sample standard deviation: 5.3817283469160735\n",
      "Degrees of freedom: 19\n",
      "T Critical: 1.73\n",
      "Fail to Reject Null Hypothesis\n",
      "P-value: 0.1527907482100252\n"
     ]
    },
    {
     "data": {
      "image/png": "[encoded data removed]",
      "text/plain": [
       "<Figure size 432x288 with 1 Axes>"
      ]
     },
     "metadata": {
      "needs_background": "light"
     },
     "output_type": "display_data"
    }
   ],
   "source": [
    "sample_data = [84.0, 92.4, 74.3, 79.4, 86.7, 75.3, 80.9, 86.1, 81.0, 85.1, \n",
    "  78.7, 73.5, 86.9, 87.4, 82.7, 81.9, 69.9, 77.2, 79.3, 83.3]\n",
    "\n",
    "one_sample_ttest(sample_data, 80, 0.05)"
   ]
  },
  {
   "cell_type": "markdown",
   "metadata": {},
   "source": [
    "Bonus: What is the effect size of the first sample compared to the population? How can you interpret this effect size in relation to your significance test?"
   ]
  },
  {
   "cell_type": "code",
   "execution_count": 122,
   "metadata": {},
   "outputs": [],
   "source": [
    "sample_data = [84.0, 92.4, 74.3, 79.4, 86.7, 75.3, 90.9, 86.1, 81.0, 85.1, \n",
    "  78.7, 73.5, 86.9, 87.4, 82.7, 81.9, 69.9, 77.2, 79.3, 83.3]"
   ]
  },
  {
   "cell_type": "markdown",
   "metadata": {},
   "source": [
    "The basic formula to calculate Cohen’s  𝑑  is:\n",
    "\n",
    "𝑑  = effect size (difference of means) / pooled standard deviation"
   ]
  },
  {
   "cell_type": "code",
   "execution_count": 129,
   "metadata": {},
   "outputs": [
    {
     "data": {
      "text/plain": [
       "2.91073326578857"
      ]
     },
     "execution_count": 129,
     "metadata": {},
     "output_type": "execute_result"
    }
   ],
   "source": [
    "(np.mean(sample_data) - 65) / np.std(sample_data)"
   ]
  },
  {
   "cell_type": "code",
   "execution_count": null,
   "metadata": {},
   "outputs": [],
   "source": [
    "# There is a large effect size bc the the sample data is above the population mean."
   ]
  },
  {
   "cell_type": "markdown",
   "metadata": {},
   "source": [
    "## Summary\n",
    "\n",
    "In this lab, you saw a quick introduction to hypothesis testing using frequentist methods with t-values and p-values. You saw how a one sample t-test can be applied to contexts where the population mean is unknown and you have a limited amount of sample data. You looked at all the stages required for such hypothesis testing with a description of steps and also, how to perform these functions in Python. The lesson also briefly explains the comparison of using p-value for statistical significance vs. effect sizes. "
   ]
  }
 ],
 "metadata": {
  "kernelspec": {
   "display_name": "learn-env",
   "language": "python",
   "name": "learn-env"
  },
  "language_info": {
   "codemirror_mode": {
    "name": "ipython",
    "version": 3
   },
   "file_extension": ".py",
   "mimetype": "text/x-python",
   "name": "python",
   "nbconvert_exporter": "python",
   "pygments_lexer": "ipython3",
   "version": "3.6.9"
  },
  "toc": {
   "base_numbering": 1,
   "nav_menu": {},
   "number_sections": true,
   "sideBar": true,
   "skip_h1_title": false,
   "title_cell": "Table of Contents",
   "title_sidebar": "Contents",
   "toc_cell": false,
   "toc_position": {},
   "toc_section_display": true,
   "toc_window_display": false
  }
 },
 "nbformat": 4,
 "nbformat_minor": 2
}
